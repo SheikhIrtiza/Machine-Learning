{
  "nbformat": 4,
  "nbformat_minor": 0,
  "metadata": {
    "colab": {
      "provenance": []
    },
    "kernelspec": {
      "name": "python3",
      "display_name": "Python 3"
    },
    "language_info": {
      "name": "python"
    }
  },
  "cells": [
    {
      "cell_type": "code",
      "execution_count": null,
      "metadata": {
        "id": "bsB6OwlP1r06"
      },
      "outputs": [],
      "source": []
    },
    {
      "cell_type": "markdown",
      "source": [
        "**Problem Statement**\n",
        "\n",
        "The Titanic dataset provides information on the face of the passengers on the Titanic, summerized according to economic status, sex, age and survival.\n",
        "\n",
        "Our task is to predict the survival of the Titanic passengers"
      ],
      "metadata": {
        "id": "wBsaOGbI3Ryj"
      }
    },
    {
      "cell_type": "code",
      "source": [
        "#First import important libraries for model use and validation, and also the libraries used for metrics and reporting.\n",
        "import pandas as pd\n",
        "import numpy as np\n",
        "\n",
        "import matplotlib\n",
        "import matplotlib.pyplot as plt\n",
        "from pandas.plotting import scatter_matrix\n",
        "%matplotlib inline\n",
        "\n",
        "import seaborn as sns\n",
        "#Use the dot set property to set the style color code and font scale of the plot\n",
        "sns.set(style=\"white\",color_codes=True)\n",
        "sns.set(font_scale=1.5)\n",
        "\n",
        "from sklearn.linear_model import LogisticRegression #importing sklearn libraries are for logistic regression\n",
        "from sklearn.model_selection import train_test_split\n",
        "\n",
        "from sklearn.metrics import confusion_matrix\n",
        "from sklearn.metrics import classification_report\n",
        "from sklearn.metrics import accuracy_score\n",
        "from sklearn.metrics import precision_score\n",
        "from sklearn.metrics import recall_score\n",
        "from sklearn.metrics import f1_score\n",
        "from sklearn import metrics"
      ],
      "metadata": {
        "id": "tJ2h41La3wa-"
      },
      "execution_count": null,
      "outputs": []
    },
    {
      "cell_type": "code",
      "source": [
        "#Now load and read the dataset in pandas dataFrame\n",
        "df_train = pd.read_csv(\"/train.csv\")\n",
        "df_train.shape#There are 891  rows along with 12 columns in the Titanic dataset"
      ],
      "metadata": {
        "colab": {
          "base_uri": "https://localhost:8080/"
        },
        "id": "LtLcLWbq50Wp",
        "outputId": "47cd6b02-e225-4026-c2b5-dd7ccda745d6"
      },
      "execution_count": null,
      "outputs": [
        {
          "output_type": "execute_result",
          "data": {
            "text/plain": [
              "(891, 12)"
            ]
          },
          "metadata": {},
          "execution_count": 8
        }
      ]
    },
    {
      "cell_type": "code",
      "source": [
        "#To return the first 5 rows of data we use\n",
        "df_train.Survived.value_counts()\n",
        "\n",
        "#Here in o/p we notice that there were 342 passengers who servived and 549 passengers who didn't survive the crash."
      ],
      "metadata": {
        "colab": {
          "base_uri": "https://localhost:8080/"
        },
        "id": "xAyw3DI99pGm",
        "outputId": "2cdbe3e5-1c92-4ee9-9b51-80f98e627107"
      },
      "execution_count": null,
      "outputs": [
        {
          "output_type": "execute_result",
          "data": {
            "text/plain": [
              "0    549\n",
              "1    342\n",
              "Name: Survived, dtype: int64"
            ]
          },
          "metadata": {},
          "execution_count": 9
        }
      ]
    },
    {
      "cell_type": "code",
      "source": [
        "df_train.Sex.value_counts()\n",
        "#There are 577 males and 314 females on board"
      ],
      "metadata": {
        "colab": {
          "base_uri": "https://localhost:8080/"
        },
        "id": "Rf9rEWyC9-SI",
        "outputId": "1300b3a8-980b-478a-c4dc-bc98a5d5468a"
      },
      "execution_count": null,
      "outputs": [
        {
          "output_type": "execute_result",
          "data": {
            "text/plain": [
              "male      577\n",
              "female    314\n",
              "Name: Sex, dtype: int64"
            ]
          },
          "metadata": {},
          "execution_count": 10
        }
      ]
    },
    {
      "cell_type": "markdown",
      "source": [],
      "metadata": {
        "id": "DhMYgx44_eEf"
      }
    },
    {
      "cell_type": "code",
      "source": [
        "df_train.Embarked.value_counts()\n",
        "#644 passengers boarded from the city of Couth Hampton, 168 from cherry Borg and 77 from Queenstown"
      ],
      "metadata": {
        "colab": {
          "base_uri": "https://localhost:8080/"
        },
        "id": "3Wvj687M-cOi",
        "outputId": "d0465634-3aa9-4646-adc6-2302bde062f3"
      },
      "execution_count": null,
      "outputs": [
        {
          "output_type": "execute_result",
          "data": {
            "text/plain": [
              "S    644\n",
              "C    168\n",
              "Q     77\n",
              "Name: Embarked, dtype: int64"
            ]
          },
          "metadata": {},
          "execution_count": 11
        }
      ]
    },
    {
      "cell_type": "code",
      "source": [
        "#Now we need to check the missing values as they reduce the quality of our performance matrics\n",
        "df_train.isnull().sum()"
      ],
      "metadata": {
        "colab": {
          "base_uri": "https://localhost:8080/"
        },
        "id": "lKRW5S47DDbl",
        "outputId": "d06a5a16-d0ca-4dae-9058-f3b7d8d4362f"
      },
      "execution_count": null,
      "outputs": [
        {
          "output_type": "execute_result",
          "data": {
            "text/plain": [
              "PassengerId      0\n",
              "Survived         0\n",
              "Pclass           0\n",
              "Name             0\n",
              "Sex              0\n",
              "Age            177\n",
              "SibSp            0\n",
              "Parch            0\n",
              "Ticket           0\n",
              "Fare             0\n",
              "Cabin          687\n",
              "Embarked         2\n",
              "dtype: int64"
            ]
          },
          "metadata": {},
          "execution_count": 12
        }
      ]
    },
    {
      "cell_type": "markdown",
      "source": [
        "notice that Cabin has almost 80% missing values. we will drop that variable completely. Age seems like a relevant predictor for survival? Ww'd  want to keep the variables , bu it has 177 missing values. We need to find a way to approximate those missing values and drop variables that aren't relevant for predicting survival. We should atleast keep the following variables number survived. These variables are relevant."
      ],
      "metadata": {
        "id": "HgbgYybLDdIn"
      }
    },
    {
      "cell_type": "code",
      "source": [
        "df_train.shape"
      ],
      "metadata": {
        "colab": {
          "base_uri": "https://localhost:8080/"
        },
        "id": "OpYwt-sODY55",
        "outputId": "3585a7c5-588e-46cd-9960-043c3ab30240"
      },
      "execution_count": null,
      "outputs": [
        {
          "output_type": "execute_result",
          "data": {
            "text/plain": [
              "(891, 12)"
            ]
          },
          "metadata": {},
          "execution_count": 13
        }
      ]
    },
    {
      "cell_type": "code",
      "source": [
        "df_train = df_train.drop(['PassengerId','Name','Ticket','Cabin'],axis=1)\n",
        "df_train.head()"
      ],
      "metadata": {
        "colab": {
          "base_uri": "https://localhost:8080/",
          "height": 206
        },
        "id": "ihztUZYGFADF",
        "outputId": "b1aa4c12-fd07-4a45-f6ee-715a0594269e"
      },
      "execution_count": null,
      "outputs": [
        {
          "output_type": "execute_result",
          "data": {
            "text/plain": [
              "   Survived  Pclass     Sex   Age  SibSp  Parch     Fare Embarked\n",
              "0         0       3    male  22.0      1      0   7.2500        S\n",
              "1         1       1  female  38.0      1      0  71.2833        C\n",
              "2         1       3  female  26.0      0      0   7.9250        S\n",
              "3         1       1  female  35.0      1      0  53.1000        S\n",
              "4         0       3    male  35.0      0      0   8.0500        S"
            ],
            "text/html": [
              "\n",
              "  <div id=\"df-e9ceae1a-4281-43e4-9156-9d7d4fb4193d\">\n",
              "    <div class=\"colab-df-container\">\n",
              "      <div>\n",
              "<style scoped>\n",
              "    .dataframe tbody tr th:only-of-type {\n",
              "        vertical-align: middle;\n",
              "    }\n",
              "\n",
              "    .dataframe tbody tr th {\n",
              "        vertical-align: top;\n",
              "    }\n",
              "\n",
              "    .dataframe thead th {\n",
              "        text-align: right;\n",
              "    }\n",
              "</style>\n",
              "<table border=\"1\" class=\"dataframe\">\n",
              "  <thead>\n",
              "    <tr style=\"text-align: right;\">\n",
              "      <th></th>\n",
              "      <th>Survived</th>\n",
              "      <th>Pclass</th>\n",
              "      <th>Sex</th>\n",
              "      <th>Age</th>\n",
              "      <th>SibSp</th>\n",
              "      <th>Parch</th>\n",
              "      <th>Fare</th>\n",
              "      <th>Embarked</th>\n",
              "    </tr>\n",
              "  </thead>\n",
              "  <tbody>\n",
              "    <tr>\n",
              "      <th>0</th>\n",
              "      <td>0</td>\n",
              "      <td>3</td>\n",
              "      <td>male</td>\n",
              "      <td>22.0</td>\n",
              "      <td>1</td>\n",
              "      <td>0</td>\n",
              "      <td>7.2500</td>\n",
              "      <td>S</td>\n",
              "    </tr>\n",
              "    <tr>\n",
              "      <th>1</th>\n",
              "      <td>1</td>\n",
              "      <td>1</td>\n",
              "      <td>female</td>\n",
              "      <td>38.0</td>\n",
              "      <td>1</td>\n",
              "      <td>0</td>\n",
              "      <td>71.2833</td>\n",
              "      <td>C</td>\n",
              "    </tr>\n",
              "    <tr>\n",
              "      <th>2</th>\n",
              "      <td>1</td>\n",
              "      <td>3</td>\n",
              "      <td>female</td>\n",
              "      <td>26.0</td>\n",
              "      <td>0</td>\n",
              "      <td>0</td>\n",
              "      <td>7.9250</td>\n",
              "      <td>S</td>\n",
              "    </tr>\n",
              "    <tr>\n",
              "      <th>3</th>\n",
              "      <td>1</td>\n",
              "      <td>1</td>\n",
              "      <td>female</td>\n",
              "      <td>35.0</td>\n",
              "      <td>1</td>\n",
              "      <td>0</td>\n",
              "      <td>53.1000</td>\n",
              "      <td>S</td>\n",
              "    </tr>\n",
              "    <tr>\n",
              "      <th>4</th>\n",
              "      <td>0</td>\n",
              "      <td>3</td>\n",
              "      <td>male</td>\n",
              "      <td>35.0</td>\n",
              "      <td>0</td>\n",
              "      <td>0</td>\n",
              "      <td>8.0500</td>\n",
              "      <td>S</td>\n",
              "    </tr>\n",
              "  </tbody>\n",
              "</table>\n",
              "</div>\n",
              "      <button class=\"colab-df-convert\" onclick=\"convertToInteractive('df-e9ceae1a-4281-43e4-9156-9d7d4fb4193d')\"\n",
              "              title=\"Convert this dataframe to an interactive table.\"\n",
              "              style=\"display:none;\">\n",
              "        \n",
              "  <svg xmlns=\"http://www.w3.org/2000/svg\" height=\"24px\"viewBox=\"0 0 24 24\"\n",
              "       width=\"24px\">\n",
              "    <path d=\"M0 0h24v24H0V0z\" fill=\"none\"/>\n",
              "    <path d=\"M18.56 5.44l.94 2.06.94-2.06 2.06-.94-2.06-.94-.94-2.06-.94 2.06-2.06.94zm-11 1L8.5 8.5l.94-2.06 2.06-.94-2.06-.94L8.5 2.5l-.94 2.06-2.06.94zm10 10l.94 2.06.94-2.06 2.06-.94-2.06-.94-.94-2.06-.94 2.06-2.06.94z\"/><path d=\"M17.41 7.96l-1.37-1.37c-.4-.4-.92-.59-1.43-.59-.52 0-1.04.2-1.43.59L10.3 9.45l-7.72 7.72c-.78.78-.78 2.05 0 2.83L4 21.41c.39.39.9.59 1.41.59.51 0 1.02-.2 1.41-.59l7.78-7.78 2.81-2.81c.8-.78.8-2.07 0-2.86zM5.41 20L4 18.59l7.72-7.72 1.47 1.35L5.41 20z\"/>\n",
              "  </svg>\n",
              "      </button>\n",
              "      \n",
              "  <style>\n",
              "    .colab-df-container {\n",
              "      display:flex;\n",
              "      flex-wrap:wrap;\n",
              "      gap: 12px;\n",
              "    }\n",
              "\n",
              "    .colab-df-convert {\n",
              "      background-color: #E8F0FE;\n",
              "      border: none;\n",
              "      border-radius: 50%;\n",
              "      cursor: pointer;\n",
              "      display: none;\n",
              "      fill: #1967D2;\n",
              "      height: 32px;\n",
              "      padding: 0 0 0 0;\n",
              "      width: 32px;\n",
              "    }\n",
              "\n",
              "    .colab-df-convert:hover {\n",
              "      background-color: #E2EBFA;\n",
              "      box-shadow: 0px 1px 2px rgba(60, 64, 67, 0.3), 0px 1px 3px 1px rgba(60, 64, 67, 0.15);\n",
              "      fill: #174EA6;\n",
              "    }\n",
              "\n",
              "    [theme=dark] .colab-df-convert {\n",
              "      background-color: #3B4455;\n",
              "      fill: #D2E3FC;\n",
              "    }\n",
              "\n",
              "    [theme=dark] .colab-df-convert:hover {\n",
              "      background-color: #434B5C;\n",
              "      box-shadow: 0px 1px 3px 1px rgba(0, 0, 0, 0.15);\n",
              "      filter: drop-shadow(0px 1px 2px rgba(0, 0, 0, 0.3));\n",
              "      fill: #FFFFFF;\n",
              "    }\n",
              "  </style>\n",
              "\n",
              "      <script>\n",
              "        const buttonEl =\n",
              "          document.querySelector('#df-e9ceae1a-4281-43e4-9156-9d7d4fb4193d button.colab-df-convert');\n",
              "        buttonEl.style.display =\n",
              "          google.colab.kernel.accessAllowed ? 'block' : 'none';\n",
              "\n",
              "        async function convertToInteractive(key) {\n",
              "          const element = document.querySelector('#df-e9ceae1a-4281-43e4-9156-9d7d4fb4193d');\n",
              "          const dataTable =\n",
              "            await google.colab.kernel.invokeFunction('convertToInteractive',\n",
              "                                                     [key], {});\n",
              "          if (!dataTable) return;\n",
              "\n",
              "          const docLinkHtml = 'Like what you see? Visit the ' +\n",
              "            '<a target=\"_blank\" href=https://colab.research.google.com/notebooks/data_table.ipynb>data table notebook</a>'\n",
              "            + ' to learn more about interactive tables.';\n",
              "          element.innerHTML = '';\n",
              "          dataTable['output_type'] = 'display_data';\n",
              "          await google.colab.output.renderOutput(dataTable, element);\n",
              "          const docLink = document.createElement('div');\n",
              "          docLink.innerHTML = docLinkHtml;\n",
              "          element.appendChild(docLink);\n",
              "        }\n",
              "      </script>\n",
              "    </div>\n",
              "  </div>\n",
              "  "
            ]
          },
          "metadata": {},
          "execution_count": 14
        }
      ]
    },
    {
      "cell_type": "code",
      "source": [
        "#Now we need to deal with the missing values in the age of variable, let's now write a fxn to find each null value in the age variable\n",
        "def impute_age(cols):\n",
        "    Age = cols[0]\n",
        "    Pclass = cols[1]\n",
        "\n",
        "    if pd.isnull(Age):\n",
        "      # We will be assigning values based on the passenger class\n",
        "        if Pclass ==1:\n",
        "            return 37\n",
        "        elif Pclass ==2:\n",
        "            return 29\n",
        "        else:\n",
        "            return 24\n",
        "    else:\n",
        "        return Age"
      ],
      "metadata": {
        "id": "05ZAA-0VF83o"
      },
      "execution_count": null,
      "outputs": []
    },
    {
      "cell_type": "code",
      "source": [
        "df_train.groupby([\"Pclass\"]).mean()"
      ],
      "metadata": {
        "id": "8xZ9qK3zKQsm",
        "colab": {
          "base_uri": "https://localhost:8080/",
          "height": 175
        },
        "outputId": "43d998aa-f12e-466c-9026-81ce9c0d925c"
      },
      "execution_count": null,
      "outputs": [
        {
          "output_type": "execute_result",
          "data": {
            "text/plain": [
              "        Survived        Age     SibSp     Parch       Fare\n",
              "Pclass                                                    \n",
              "1       0.629630  38.233441  0.416667  0.356481  84.154687\n",
              "2       0.472826  29.877630  0.402174  0.380435  20.662183\n",
              "3       0.242363  25.140620  0.615071  0.393075  13.675550"
            ],
            "text/html": [
              "\n",
              "  <div id=\"df-83766010-0500-4f8a-b971-4ae46c267914\">\n",
              "    <div class=\"colab-df-container\">\n",
              "      <div>\n",
              "<style scoped>\n",
              "    .dataframe tbody tr th:only-of-type {\n",
              "        vertical-align: middle;\n",
              "    }\n",
              "\n",
              "    .dataframe tbody tr th {\n",
              "        vertical-align: top;\n",
              "    }\n",
              "\n",
              "    .dataframe thead th {\n",
              "        text-align: right;\n",
              "    }\n",
              "</style>\n",
              "<table border=\"1\" class=\"dataframe\">\n",
              "  <thead>\n",
              "    <tr style=\"text-align: right;\">\n",
              "      <th></th>\n",
              "      <th>Survived</th>\n",
              "      <th>Age</th>\n",
              "      <th>SibSp</th>\n",
              "      <th>Parch</th>\n",
              "      <th>Fare</th>\n",
              "    </tr>\n",
              "    <tr>\n",
              "      <th>Pclass</th>\n",
              "      <th></th>\n",
              "      <th></th>\n",
              "      <th></th>\n",
              "      <th></th>\n",
              "      <th></th>\n",
              "    </tr>\n",
              "  </thead>\n",
              "  <tbody>\n",
              "    <tr>\n",
              "      <th>1</th>\n",
              "      <td>0.629630</td>\n",
              "      <td>38.233441</td>\n",
              "      <td>0.416667</td>\n",
              "      <td>0.356481</td>\n",
              "      <td>84.154687</td>\n",
              "    </tr>\n",
              "    <tr>\n",
              "      <th>2</th>\n",
              "      <td>0.472826</td>\n",
              "      <td>29.877630</td>\n",
              "      <td>0.402174</td>\n",
              "      <td>0.380435</td>\n",
              "      <td>20.662183</td>\n",
              "    </tr>\n",
              "    <tr>\n",
              "      <th>3</th>\n",
              "      <td>0.242363</td>\n",
              "      <td>25.140620</td>\n",
              "      <td>0.615071</td>\n",
              "      <td>0.393075</td>\n",
              "      <td>13.675550</td>\n",
              "    </tr>\n",
              "  </tbody>\n",
              "</table>\n",
              "</div>\n",
              "      <button class=\"colab-df-convert\" onclick=\"convertToInteractive('df-83766010-0500-4f8a-b971-4ae46c267914')\"\n",
              "              title=\"Convert this dataframe to an interactive table.\"\n",
              "              style=\"display:none;\">\n",
              "        \n",
              "  <svg xmlns=\"http://www.w3.org/2000/svg\" height=\"24px\"viewBox=\"0 0 24 24\"\n",
              "       width=\"24px\">\n",
              "    <path d=\"M0 0h24v24H0V0z\" fill=\"none\"/>\n",
              "    <path d=\"M18.56 5.44l.94 2.06.94-2.06 2.06-.94-2.06-.94-.94-2.06-.94 2.06-2.06.94zm-11 1L8.5 8.5l.94-2.06 2.06-.94-2.06-.94L8.5 2.5l-.94 2.06-2.06.94zm10 10l.94 2.06.94-2.06 2.06-.94-2.06-.94-.94-2.06-.94 2.06-2.06.94z\"/><path d=\"M17.41 7.96l-1.37-1.37c-.4-.4-.92-.59-1.43-.59-.52 0-1.04.2-1.43.59L10.3 9.45l-7.72 7.72c-.78.78-.78 2.05 0 2.83L4 21.41c.39.39.9.59 1.41.59.51 0 1.02-.2 1.41-.59l7.78-7.78 2.81-2.81c.8-.78.8-2.07 0-2.86zM5.41 20L4 18.59l7.72-7.72 1.47 1.35L5.41 20z\"/>\n",
              "  </svg>\n",
              "      </button>\n",
              "      \n",
              "  <style>\n",
              "    .colab-df-container {\n",
              "      display:flex;\n",
              "      flex-wrap:wrap;\n",
              "      gap: 12px;\n",
              "    }\n",
              "\n",
              "    .colab-df-convert {\n",
              "      background-color: #E8F0FE;\n",
              "      border: none;\n",
              "      border-radius: 50%;\n",
              "      cursor: pointer;\n",
              "      display: none;\n",
              "      fill: #1967D2;\n",
              "      height: 32px;\n",
              "      padding: 0 0 0 0;\n",
              "      width: 32px;\n",
              "    }\n",
              "\n",
              "    .colab-df-convert:hover {\n",
              "      background-color: #E2EBFA;\n",
              "      box-shadow: 0px 1px 2px rgba(60, 64, 67, 0.3), 0px 1px 3px 1px rgba(60, 64, 67, 0.15);\n",
              "      fill: #174EA6;\n",
              "    }\n",
              "\n",
              "    [theme=dark] .colab-df-convert {\n",
              "      background-color: #3B4455;\n",
              "      fill: #D2E3FC;\n",
              "    }\n",
              "\n",
              "    [theme=dark] .colab-df-convert:hover {\n",
              "      background-color: #434B5C;\n",
              "      box-shadow: 0px 1px 3px 1px rgba(0, 0, 0, 0.15);\n",
              "      filter: drop-shadow(0px 1px 2px rgba(0, 0, 0, 0.3));\n",
              "      fill: #FFFFFF;\n",
              "    }\n",
              "  </style>\n",
              "\n",
              "      <script>\n",
              "        const buttonEl =\n",
              "          document.querySelector('#df-83766010-0500-4f8a-b971-4ae46c267914 button.colab-df-convert');\n",
              "        buttonEl.style.display =\n",
              "          google.colab.kernel.accessAllowed ? 'block' : 'none';\n",
              "\n",
              "        async function convertToInteractive(key) {\n",
              "          const element = document.querySelector('#df-83766010-0500-4f8a-b971-4ae46c267914');\n",
              "          const dataTable =\n",
              "            await google.colab.kernel.invokeFunction('convertToInteractive',\n",
              "                                                     [key], {});\n",
              "          if (!dataTable) return;\n",
              "\n",
              "          const docLinkHtml = 'Like what you see? Visit the ' +\n",
              "            '<a target=\"_blank\" href=https://colab.research.google.com/notebooks/data_table.ipynb>data table notebook</a>'\n",
              "            + ' to learn more about interactive tables.';\n",
              "          element.innerHTML = '';\n",
              "          dataTable['output_type'] = 'display_data';\n",
              "          await google.colab.output.renderOutput(dataTable, element);\n",
              "          const docLink = document.createElement('div');\n",
              "          docLink.innerHTML = docLinkHtml;\n",
              "          element.appendChild(docLink);\n",
              "        }\n",
              "      </script>\n",
              "    </div>\n",
              "  </div>\n",
              "  "
            ]
          },
          "metadata": {},
          "execution_count": 16
        }
      ]
    },
    {
      "cell_type": "code",
      "source": [
        "df_train['Age'] = df_train[['Age','Pclass']].apply(impute_age,axis=1)"
      ],
      "metadata": {
        "id": "FLRvZfp1KXsZ"
      },
      "execution_count": null,
      "outputs": []
    },
    {
      "cell_type": "code",
      "source": [
        "df_train.isnull().sum()"
      ],
      "metadata": {
        "colab": {
          "base_uri": "https://localhost:8080/"
        },
        "id": "_TKuZlR8K4Y3",
        "outputId": "b23a6ef6-63a3-4d25-d128-0088bfd0c355"
      },
      "execution_count": null,
      "outputs": [
        {
          "output_type": "execute_result",
          "data": {
            "text/plain": [
              "Survived    0\n",
              "Pclass      0\n",
              "Sex         0\n",
              "Age         0\n",
              "SibSp       0\n",
              "Parch       0\n",
              "Fare        0\n",
              "Embarked    2\n",
              "dtype: int64"
            ]
          },
          "metadata": {},
          "execution_count": 18
        }
      ]
    },
    {
      "cell_type": "code",
      "source": [
        "df_train.dropna(inplace=True)\n",
        "df_train.isnull().sum()"
      ],
      "metadata": {
        "colab": {
          "base_uri": "https://localhost:8080/"
        },
        "id": "01eEhji8WeVb",
        "outputId": "9aaa94f4-e46c-47b7-df4c-c87f6115bf9b"
      },
      "execution_count": null,
      "outputs": [
        {
          "output_type": "execute_result",
          "data": {
            "text/plain": [
              "Survived    0\n",
              "Pclass      0\n",
              "Sex         0\n",
              "Age         0\n",
              "SibSp       0\n",
              "Parch       0\n",
              "Fare        0\n",
              "Embarked    0\n",
              "dtype: int64"
            ]
          },
          "metadata": {},
          "execution_count": 19
        }
      ]
    },
    {
      "cell_type": "code",
      "source": [
        "df_train.dtypes"
      ],
      "metadata": {
        "colab": {
          "base_uri": "https://localhost:8080/"
        },
        "id": "nZUNZmuAwkOs",
        "outputId": "dc1dfb31-c2e7-4307-f380-aba27cb25478"
      },
      "execution_count": null,
      "outputs": [
        {
          "output_type": "execute_result",
          "data": {
            "text/plain": [
              "Survived      int64\n",
              "Pclass        int64\n",
              "Sex          object\n",
              "Age         float64\n",
              "SibSp         int64\n",
              "Parch         int64\n",
              "Fare        float64\n",
              "Embarked     object\n",
              "dtype: object"
            ]
          },
          "metadata": {},
          "execution_count": 20
        }
      ]
    },
    {
      "cell_type": "code",
      "source": [
        "df_train_dummied = pd.get_dummies(df_train,columns=[\"Sex\"])"
      ],
      "metadata": {
        "id": "MFAOWymwwtHD"
      },
      "execution_count": null,
      "outputs": []
    },
    {
      "cell_type": "code",
      "source": [
        "df_train_dummied = pd.get_dummies(df_train,columns=[\"Embarked\"])"
      ],
      "metadata": {
        "id": "oxjRZttzw9bV"
      },
      "execution_count": null,
      "outputs": []
    },
    {
      "cell_type": "code",
      "source": [
        "#Converting the categorical variables into dummy slash indicator variables we get the following data frame \n",
        "df_train_dummied.head()"
      ],
      "metadata": {
        "colab": {
          "base_uri": "https://localhost:8080/",
          "height": 206
        },
        "id": "gAdpT0d4xRzz",
        "outputId": "fd4d69d9-a05a-4ee5-cf39-5ecd18109f4a"
      },
      "execution_count": null,
      "outputs": [
        {
          "output_type": "execute_result",
          "data": {
            "text/plain": [
              "   Survived  Pclass     Sex   Age  SibSp  Parch     Fare  Embarked_C  \\\n",
              "0         0       3    male  22.0      1      0   7.2500           0   \n",
              "1         1       1  female  38.0      1      0  71.2833           1   \n",
              "2         1       3  female  26.0      0      0   7.9250           0   \n",
              "3         1       1  female  35.0      1      0  53.1000           0   \n",
              "4         0       3    male  35.0      0      0   8.0500           0   \n",
              "\n",
              "   Embarked_Q  Embarked_S  \n",
              "0           0           1  \n",
              "1           0           0  \n",
              "2           0           1  \n",
              "3           0           1  \n",
              "4           0           1  "
            ],
            "text/html": [
              "\n",
              "  <div id=\"df-70f91b31-6d43-49bc-a3ee-565db10de5af\">\n",
              "    <div class=\"colab-df-container\">\n",
              "      <div>\n",
              "<style scoped>\n",
              "    .dataframe tbody tr th:only-of-type {\n",
              "        vertical-align: middle;\n",
              "    }\n",
              "\n",
              "    .dataframe tbody tr th {\n",
              "        vertical-align: top;\n",
              "    }\n",
              "\n",
              "    .dataframe thead th {\n",
              "        text-align: right;\n",
              "    }\n",
              "</style>\n",
              "<table border=\"1\" class=\"dataframe\">\n",
              "  <thead>\n",
              "    <tr style=\"text-align: right;\">\n",
              "      <th></th>\n",
              "      <th>Survived</th>\n",
              "      <th>Pclass</th>\n",
              "      <th>Sex</th>\n",
              "      <th>Age</th>\n",
              "      <th>SibSp</th>\n",
              "      <th>Parch</th>\n",
              "      <th>Fare</th>\n",
              "      <th>Embarked_C</th>\n",
              "      <th>Embarked_Q</th>\n",
              "      <th>Embarked_S</th>\n",
              "    </tr>\n",
              "  </thead>\n",
              "  <tbody>\n",
              "    <tr>\n",
              "      <th>0</th>\n",
              "      <td>0</td>\n",
              "      <td>3</td>\n",
              "      <td>male</td>\n",
              "      <td>22.0</td>\n",
              "      <td>1</td>\n",
              "      <td>0</td>\n",
              "      <td>7.2500</td>\n",
              "      <td>0</td>\n",
              "      <td>0</td>\n",
              "      <td>1</td>\n",
              "    </tr>\n",
              "    <tr>\n",
              "      <th>1</th>\n",
              "      <td>1</td>\n",
              "      <td>1</td>\n",
              "      <td>female</td>\n",
              "      <td>38.0</td>\n",
              "      <td>1</td>\n",
              "      <td>0</td>\n",
              "      <td>71.2833</td>\n",
              "      <td>1</td>\n",
              "      <td>0</td>\n",
              "      <td>0</td>\n",
              "    </tr>\n",
              "    <tr>\n",
              "      <th>2</th>\n",
              "      <td>1</td>\n",
              "      <td>3</td>\n",
              "      <td>female</td>\n",
              "      <td>26.0</td>\n",
              "      <td>0</td>\n",
              "      <td>0</td>\n",
              "      <td>7.9250</td>\n",
              "      <td>0</td>\n",
              "      <td>0</td>\n",
              "      <td>1</td>\n",
              "    </tr>\n",
              "    <tr>\n",
              "      <th>3</th>\n",
              "      <td>1</td>\n",
              "      <td>1</td>\n",
              "      <td>female</td>\n",
              "      <td>35.0</td>\n",
              "      <td>1</td>\n",
              "      <td>0</td>\n",
              "      <td>53.1000</td>\n",
              "      <td>0</td>\n",
              "      <td>0</td>\n",
              "      <td>1</td>\n",
              "    </tr>\n",
              "    <tr>\n",
              "      <th>4</th>\n",
              "      <td>0</td>\n",
              "      <td>3</td>\n",
              "      <td>male</td>\n",
              "      <td>35.0</td>\n",
              "      <td>0</td>\n",
              "      <td>0</td>\n",
              "      <td>8.0500</td>\n",
              "      <td>0</td>\n",
              "      <td>0</td>\n",
              "      <td>1</td>\n",
              "    </tr>\n",
              "  </tbody>\n",
              "</table>\n",
              "</div>\n",
              "      <button class=\"colab-df-convert\" onclick=\"convertToInteractive('df-70f91b31-6d43-49bc-a3ee-565db10de5af')\"\n",
              "              title=\"Convert this dataframe to an interactive table.\"\n",
              "              style=\"display:none;\">\n",
              "        \n",
              "  <svg xmlns=\"http://www.w3.org/2000/svg\" height=\"24px\"viewBox=\"0 0 24 24\"\n",
              "       width=\"24px\">\n",
              "    <path d=\"M0 0h24v24H0V0z\" fill=\"none\"/>\n",
              "    <path d=\"M18.56 5.44l.94 2.06.94-2.06 2.06-.94-2.06-.94-.94-2.06-.94 2.06-2.06.94zm-11 1L8.5 8.5l.94-2.06 2.06-.94-2.06-.94L8.5 2.5l-.94 2.06-2.06.94zm10 10l.94 2.06.94-2.06 2.06-.94-2.06-.94-.94-2.06-.94 2.06-2.06.94z\"/><path d=\"M17.41 7.96l-1.37-1.37c-.4-.4-.92-.59-1.43-.59-.52 0-1.04.2-1.43.59L10.3 9.45l-7.72 7.72c-.78.78-.78 2.05 0 2.83L4 21.41c.39.39.9.59 1.41.59.51 0 1.02-.2 1.41-.59l7.78-7.78 2.81-2.81c.8-.78.8-2.07 0-2.86zM5.41 20L4 18.59l7.72-7.72 1.47 1.35L5.41 20z\"/>\n",
              "  </svg>\n",
              "      </button>\n",
              "      \n",
              "  <style>\n",
              "    .colab-df-container {\n",
              "      display:flex;\n",
              "      flex-wrap:wrap;\n",
              "      gap: 12px;\n",
              "    }\n",
              "\n",
              "    .colab-df-convert {\n",
              "      background-color: #E8F0FE;\n",
              "      border: none;\n",
              "      border-radius: 50%;\n",
              "      cursor: pointer;\n",
              "      display: none;\n",
              "      fill: #1967D2;\n",
              "      height: 32px;\n",
              "      padding: 0 0 0 0;\n",
              "      width: 32px;\n",
              "    }\n",
              "\n",
              "    .colab-df-convert:hover {\n",
              "      background-color: #E2EBFA;\n",
              "      box-shadow: 0px 1px 2px rgba(60, 64, 67, 0.3), 0px 1px 3px 1px rgba(60, 64, 67, 0.15);\n",
              "      fill: #174EA6;\n",
              "    }\n",
              "\n",
              "    [theme=dark] .colab-df-convert {\n",
              "      background-color: #3B4455;\n",
              "      fill: #D2E3FC;\n",
              "    }\n",
              "\n",
              "    [theme=dark] .colab-df-convert:hover {\n",
              "      background-color: #434B5C;\n",
              "      box-shadow: 0px 1px 3px 1px rgba(0, 0, 0, 0.15);\n",
              "      filter: drop-shadow(0px 1px 2px rgba(0, 0, 0, 0.3));\n",
              "      fill: #FFFFFF;\n",
              "    }\n",
              "  </style>\n",
              "\n",
              "      <script>\n",
              "        const buttonEl =\n",
              "          document.querySelector('#df-70f91b31-6d43-49bc-a3ee-565db10de5af button.colab-df-convert');\n",
              "        buttonEl.style.display =\n",
              "          google.colab.kernel.accessAllowed ? 'block' : 'none';\n",
              "\n",
              "        async function convertToInteractive(key) {\n",
              "          const element = document.querySelector('#df-70f91b31-6d43-49bc-a3ee-565db10de5af');\n",
              "          const dataTable =\n",
              "            await google.colab.kernel.invokeFunction('convertToInteractive',\n",
              "                                                     [key], {});\n",
              "          if (!dataTable) return;\n",
              "\n",
              "          const docLinkHtml = 'Like what you see? Visit the ' +\n",
              "            '<a target=\"_blank\" href=https://colab.research.google.com/notebooks/data_table.ipynb>data table notebook</a>'\n",
              "            + ' to learn more about interactive tables.';\n",
              "          element.innerHTML = '';\n",
              "          dataTable['output_type'] = 'display_data';\n",
              "          await google.colab.output.renderOutput(dataTable, element);\n",
              "          const docLink = document.createElement('div');\n",
              "          docLink.innerHTML = docLinkHtml;\n",
              "          element.appendChild(docLink);\n",
              "        }\n",
              "      </script>\n",
              "    </div>\n",
              "  </div>\n",
              "  "
            ]
          },
          "metadata": {},
          "execution_count": 45
        }
      ]
    },
    {
      "cell_type": "code",
      "source": [
        "#We also need to find out if variables are correlated, lets utilize tehe heat map to do this\n",
        "plt.figure(figsize=(6,4))\n",
        "sns.heatmap(df_train_dummied.corr())"
      ],
      "metadata": {
        "colab": {
          "base_uri": "https://localhost:8080/",
          "height": 387
        },
        "id": "euMatT_syn5B",
        "outputId": "dd7c6c9b-6110-4942-ac72-e49297981e5e"
      },
      "execution_count": null,
      "outputs": [
        {
          "output_type": "execute_result",
          "data": {
            "text/plain": [
              "<AxesSubplot:>"
            ]
          },
          "metadata": {},
          "execution_count": 44
        },
        {
          "output_type": "display_data",
          "data": {
            "text/plain": [
              "<Figure size 432x288 with 2 Axes>"
            ],
            "image/png": "[encoded data removed]"
          },
          "metadata": {}
        }
      ]
    },
    {
      "cell_type": "markdown",
      "source": [
        "Here we notice that there is a strong correlation between servival and sex_female variables. So we will build a classifier which can predict survival."
      ],
      "metadata": {
        "id": "HRZuooQ-zUQa"
      }
    },
    {
      "cell_type": "code",
      "source": [
        "used_features = [\"Pclass\",\"Age\",\"SibSp\",\"Parch\",\"Embarked_C\",\"Embarked_Q\",\"Embarked_S\"]\n",
        "X = df_train_dummied[used_features].values\n",
        "y = df_train_dummied['Survived']"
      ],
      "metadata": {
        "id": "f-RARuHWzL7L"
      },
      "execution_count": null,
      "outputs": []
    },
    {
      "cell_type": "code",
      "source": [
        "X_train,X_test,y_train,y_test = train_test_split(X,y,test_size=0.3,random_state=1)"
      ],
      "metadata": {
        "id": "UJMJI4s-1YVR"
      },
      "execution_count": null,
      "outputs": []
    },
    {
      "cell_type": "code",
      "source": [
        "print(X_train.shape)\n",
        "print(X_test.shape)\n",
        "print(y_train.shape)\n",
        "print(y_test.shape)"
      ],
      "metadata": {
        "colab": {
          "base_uri": "https://localhost:8080/"
        },
        "id": "0cYYw-9C2C3g",
        "outputId": "fce2494e-0f43-4124-c4c8-02ed540c8ac8"
      },
      "execution_count": null,
      "outputs": [
        {
          "output_type": "stream",
          "name": "stdout",
          "text": [
            "(622, 7)\n",
            "(267, 7)\n",
            "(622,)\n",
            "(267,)\n"
          ]
        }
      ]
    },
    {
      "cell_type": "code",
      "source": [
        "LogReg = LogisticRegression()"
      ],
      "metadata": {
        "id": "BWn17kwt4H9-"
      },
      "execution_count": null,
      "outputs": []
    },
    {
      "cell_type": "code",
      "source": [
        "LogReg.fit(X_train,y_train)"
      ],
      "metadata": {
        "colab": {
          "base_uri": "https://localhost:8080/"
        },
        "id": "YvGObhyI4P82",
        "outputId": "033e5395-225b-43b4-c8c7-c926bcb86358"
      },
      "execution_count": null,
      "outputs": [
        {
          "output_type": "stream",
          "name": "stderr",
          "text": [
            "/usr/local/lib/python3.8/dist-packages/sklearn/linear_model/_logistic.py:814: ConvergenceWarning: lbfgs failed to converge (status=1):\n",
            "STOP: TOTAL NO. of ITERATIONS REACHED LIMIT.\n",
            "\n",
            "Increase the number of iterations (max_iter) or scale the data as shown in:\n",
            "    https://scikit-learn.org/stable/modules/preprocessing.html\n",
            "Please also refer to the documentation for alternative solver options:\n",
            "    https://scikit-learn.org/stable/modules/linear_model.html#logistic-regression\n",
            "  n_iter_i = _check_optimize_result(\n"
          ]
        },
        {
          "output_type": "execute_result",
          "data": {
            "text/plain": [
              "LogisticRegression()"
            ]
          },
          "metadata": {},
          "execution_count": 29
        }
      ]
    },
    {
      "cell_type": "code",
      "source": [
        "y_pred = LogReg.predict(X_test)"
      ],
      "metadata": {
        "id": "ArFt9Zxw4g5x"
      },
      "execution_count": null,
      "outputs": []
    },
    {
      "cell_type": "code",
      "source": [
        "metrics.confusion_matrix(y_test,y_pred)"
      ],
      "metadata": {
        "id": "RcPXfuz_4n8a",
        "colab": {
          "base_uri": "https://localhost:8080/"
        },
        "outputId": "6fe45a2e-8bcd-4fc4-8a6b-0622ab9e3146"
      },
      "execution_count": null,
      "outputs": [
        {
          "output_type": "execute_result",
          "data": {
            "text/plain": [
              "array([[140,  26],\n",
              "       [ 53,  48]])"
            ]
          },
          "metadata": {},
          "execution_count": 31
        }
      ]
    },
    {
      "cell_type": "code",
      "source": [
        "metrics.accuracy_score(y_test,y_pred)"
      ],
      "metadata": {
        "id": "6I7J8sSm4xvD",
        "colab": {
          "base_uri": "https://localhost:8080/"
        },
        "outputId": "283104d6-958d-4745-cab5-21343f4aae96"
      },
      "execution_count": null,
      "outputs": [
        {
          "output_type": "execute_result",
          "data": {
            "text/plain": [
              "0.704119850187266"
            ]
          },
          "metadata": {},
          "execution_count": 32
        }
      ]
    },
    {
      "cell_type": "code",
      "source": [
        "len(X_test)"
      ],
      "metadata": {
        "id": "T0w_k7H-7NX5",
        "colab": {
          "base_uri": "https://localhost:8080/"
        },
        "outputId": "0e4ededb-1cf2-4bbb-d058-ae82267dfd32"
      },
      "execution_count": null,
      "outputs": [
        {
          "output_type": "execute_result",
          "data": {
            "text/plain": [
              "267"
            ]
          },
          "metadata": {},
          "execution_count": 33
        }
      ]
    },
    {
      "cell_type": "code",
      "source": [
        "print(classification_report(y_test,y_pred))"
      ],
      "metadata": {
        "id": "LOWK1MlA7QdN",
        "colab": {
          "base_uri": "https://localhost:8080/"
        },
        "outputId": "10712bb1-7372-4f4c-d585-15df393321b3"
      },
      "execution_count": null,
      "outputs": [
        {
          "output_type": "stream",
          "name": "stdout",
          "text": [
            "              precision    recall  f1-score   support\n",
            "\n",
            "           0       0.73      0.84      0.78       166\n",
            "           1       0.65      0.48      0.55       101\n",
            "\n",
            "    accuracy                           0.70       267\n",
            "   macro avg       0.69      0.66      0.66       267\n",
            "weighted avg       0.70      0.70      0.69       267\n",
            "\n"
          ]
        }
      ]
    },
    {
      "cell_type": "code",
      "source": [
        "LogReg.coef_"
      ],
      "metadata": {
        "id": "NESfmSfP7j7J",
        "colab": {
          "base_uri": "https://localhost:8080/"
        },
        "outputId": "f934a58d-6e02-499e-f879-978c74e61ddc"
      },
      "execution_count": null,
      "outputs": [
        {
          "output_type": "execute_result",
          "data": {
            "text/plain": [
              "array([[-1.08308102, -0.04128713, -0.15204294,  0.33030591,  0.19925346,\n",
              "         0.43025464, -0.57965649]])"
            ]
          },
          "metadata": {},
          "execution_count": 35
        }
      ]
    },
    {
      "cell_type": "code",
      "source": [
        "LogReg.intercept_"
      ],
      "metadata": {
        "id": "lJDZCPDc7mcM",
        "colab": {
          "base_uri": "https://localhost:8080/"
        },
        "outputId": "7cbcc95e-c79b-4c36-9899-92dd87d0da52"
      },
      "execution_count": null,
      "outputs": [
        {
          "output_type": "execute_result",
          "data": {
            "text/plain": [
              "array([3.48732629])"
            ]
          },
          "metadata": {},
          "execution_count": 36
        }
      ]
    },
    {
      "cell_type": "code",
      "source": [
        "df_train_dummied[used_features].columns"
      ],
      "metadata": {
        "id": "mTLFXO8G7qne",
        "colab": {
          "base_uri": "https://localhost:8080/"
        },
        "outputId": "fceac47d-d58b-46b4-a7ea-6466be4b8adb"
      },
      "execution_count": null,
      "outputs": [
        {
          "output_type": "execute_result",
          "data": {
            "text/plain": [
              "Index(['Pclass', 'Age', 'SibSp', 'Parch', 'Embarked_C', 'Embarked_Q',\n",
              "       'Embarked_S'],\n",
              "      dtype='object')"
            ]
          },
          "metadata": {},
          "execution_count": 38
        }
      ]
    },
    {
      "cell_type": "code",
      "source": [
        "LogReg.predict_proba(X_test)"
      ],
      "metadata": {
        "id": "2YOPa6ZB7x7r",
        "colab": {
          "base_uri": "https://localhost:8080/"
        },
        "outputId": "a589ea9e-00e5-4b37-858b-7909c17195f7"
      },
      "execution_count": null,
      "outputs": [
        {
          "output_type": "execute_result",
          "data": {
            "text/plain": [
              "array([[0.67805091, 0.32194909],\n",
              "       [0.72958989, 0.27041011],\n",
              "       [0.91079295, 0.08920705],\n",
              "       [0.49806406, 0.50193594],\n",
              "       [0.73481595, 0.26518405],\n",
              "       [0.44336996, 0.55663004],\n",
              "       [0.74739024, 0.25260976],\n",
              "       [0.67771523, 0.32228477],\n",
              "       [0.52155702, 0.47844298],\n",
              "       [0.80455946, 0.19544054],\n",
              "       [0.59986827, 0.40013173],\n",
              "       [0.49388174, 0.50611826],\n",
              "       [0.61202186, 0.38797814],\n",
              "       [0.35375382, 0.64624618],\n",
              "       [0.77728084, 0.22271916],\n",
              "       [0.77728084, 0.22271916],\n",
              "       [0.8086447 , 0.1913553 ],\n",
              "       [0.71299555, 0.28700445],\n",
              "       [0.54945789, 0.45054211],\n",
              "       [0.21493748, 0.78506252],\n",
              "       [0.84060834, 0.15939166],\n",
              "       [0.3640582 , 0.6359418 ],\n",
              "       [0.75852222, 0.24147778],\n",
              "       [0.70998981, 0.29001019],\n",
              "       [0.3308616 , 0.6691384 ],\n",
              "       [0.86636535, 0.13363465],\n",
              "       [0.1662269 , 0.8337731 ],\n",
              "       [0.78434639, 0.21565361],\n",
              "       [0.81525242, 0.18474758],\n",
              "       [0.57994637, 0.42005363],\n",
              "       [0.79124798, 0.20875202],\n",
              "       [0.23894919, 0.76105081],\n",
              "       [0.51073528, 0.48926472],\n",
              "       [0.13250387, 0.86749613],\n",
              "       [0.42629959, 0.57370041],\n",
              "       [0.53133936, 0.46866064],\n",
              "       [0.47411444, 0.52588556],\n",
              "       [0.79124798, 0.20875202],\n",
              "       [0.53834821, 0.46165179],\n",
              "       [0.30403406, 0.69596594],\n",
              "       [0.68905691, 0.31094309],\n",
              "       [0.83754041, 0.16245959],\n",
              "       [0.12532813, 0.87467187],\n",
              "       [0.79124798, 0.20875202],\n",
              "       [0.67594825, 0.32405175],\n",
              "       [0.64099387, 0.35900613],\n",
              "       [0.53921765, 0.46078235],\n",
              "       [0.70447311, 0.29552689],\n",
              "       [0.26112427, 0.73887573],\n",
              "       [0.87107354, 0.12892646],\n",
              "       [0.79124798, 0.20875202],\n",
              "       [0.25428744, 0.74571256],\n",
              "       [0.48496079, 0.51503921],\n",
              "       [0.35755894, 0.64244106],\n",
              "       [0.61202186, 0.38797814],\n",
              "       [0.2232931 , 0.7767069 ],\n",
              "       [0.65043857, 0.34956143],\n",
              "       [0.61118232, 0.38881768],\n",
              "       [0.55183713, 0.44816287],\n",
              "       [0.81127058, 0.18872942],\n",
              "       [0.70246729, 0.29753271],\n",
              "       [0.77005167, 0.22994833],\n",
              "       [0.42629959, 0.57370041],\n",
              "       [0.79124798, 0.20875202],\n",
              "       [0.25428744, 0.74571256],\n",
              "       [0.52807233, 0.47192767],\n",
              "       [0.79124798, 0.20875202],\n",
              "       [0.85136353, 0.14863647],\n",
              "       [0.55879179, 0.44120821],\n",
              "       [0.1771776 , 0.8228224 ],\n",
              "       [0.41304463, 0.58695537],\n",
              "       [0.18327711, 0.81672289],\n",
              "       [0.89661599, 0.10338401],\n",
              "       [0.77005167, 0.22994833],\n",
              "       [0.72959164, 0.27040836],\n",
              "       [0.44336996, 0.55663004],\n",
              "       [0.57994637, 0.42005363],\n",
              "       [0.85994152, 0.14005848],\n",
              "       [0.59273696, 0.40726304],\n",
              "       [0.72959164, 0.27040836],\n",
              "       [0.57994637, 0.42005363],\n",
              "       [0.77728084, 0.22271916],\n",
              "       [0.1662269 , 0.8337731 ],\n",
              "       [0.10977954, 0.89022046],\n",
              "       [0.63143857, 0.36856143],\n",
              "       [0.45683185, 0.54316815],\n",
              "       [0.65172701, 0.34827299],\n",
              "       [0.19039156, 0.80960844],\n",
              "       [0.79124798, 0.20875202],\n",
              "       [0.77728084, 0.22271916],\n",
              "       [0.82923102, 0.17076898],\n",
              "       [0.57994637, 0.42005363],\n",
              "       [0.87867614, 0.12132386],\n",
              "       [0.63495986, 0.36504014],\n",
              "       [0.63495986, 0.36504014],\n",
              "       [0.71872763, 0.28127237],\n",
              "       [0.63367352, 0.36632648],\n",
              "       [0.55556044, 0.44443956],\n",
              "       [0.63495986, 0.36504014],\n",
              "       [0.61202186, 0.38797814],\n",
              "       [0.75510527, 0.24489473],\n",
              "       [0.68014445, 0.31985555],\n",
              "       [0.41992265, 0.58007735],\n",
              "       [0.7626595 , 0.2373405 ],\n",
              "       [0.7626595 , 0.2373405 ],\n",
              "       [0.71268268, 0.28731732],\n",
              "       [0.44797765, 0.55202235],\n",
              "       [0.75510527, 0.24489473],\n",
              "       [0.61561573, 0.38438427],\n",
              "       [0.70447311, 0.29552689],\n",
              "       [0.45358176, 0.54641824],\n",
              "       [0.61202186, 0.38797814],\n",
              "       [0.63495986, 0.36504014],\n",
              "       [0.54536745, 0.45463255],\n",
              "       [0.67518139, 0.32481861],\n",
              "       [0.24653643, 0.75346357],\n",
              "       [0.65942152, 0.34057848],\n",
              "       [0.80455946, 0.19544054],\n",
              "       [0.25428744, 0.74571256],\n",
              "       [0.66897257, 0.33102743],\n",
              "       [0.79798559, 0.20201441],\n",
              "       [0.43607155, 0.56392845],\n",
              "       [0.57994637, 0.42005363],\n",
              "       [0.33882179, 0.66117821],\n",
              "       [0.48441589, 0.51558411],\n",
              "       [0.82028159, 0.17971841],\n",
              "       [0.21621441, 0.78378559],\n",
              "       [0.61832937, 0.38167063],\n",
              "       [0.80455946, 0.19544054],\n",
              "       [0.81127058, 0.18872942],\n",
              "       [0.81525242, 0.18474758],\n",
              "       [0.41992265, 0.58007735],\n",
              "       [0.54073267, 0.45926733],\n",
              "       [0.42629959, 0.57370041],\n",
              "       [0.77728084, 0.22271916],\n",
              "       [0.27474805, 0.72525195],\n",
              "       [0.77005167, 0.22994833],\n",
              "       [0.87563966, 0.12436034],\n",
              "       [0.79124798, 0.20875202],\n",
              "       [0.81721818, 0.18278182],\n",
              "       [0.76834459, 0.23165541],\n",
              "       [0.71030625, 0.28969375],\n",
              "       [0.87107354, 0.12892646],\n",
              "       [0.77500382, 0.22499618],\n",
              "       [0.42629959, 0.57370041],\n",
              "       [0.49336463, 0.50663537],\n",
              "       [0.39350771, 0.60649229],\n",
              "       [0.29536915, 0.70463085],\n",
              "       [0.32057657, 0.67942343],\n",
              "       [0.69101832, 0.30898168],\n",
              "       [0.42362795, 0.57637205],\n",
              "       [0.89253686, 0.10746314],\n",
              "       [0.43693214, 0.56306786],\n",
              "       [0.75510527, 0.24489473],\n",
              "       [0.21715717, 0.78284283],\n",
              "       [0.77728084, 0.22271916],\n",
              "       [0.66683975, 0.33316025],\n",
              "       [0.55469637, 0.44530363],\n",
              "       [0.81721818, 0.18278182],\n",
              "       [0.79124798, 0.20875202],\n",
              "       [0.33882179, 0.66117821],\n",
              "       [0.64099387, 0.35900613],\n",
              "       [0.81127058, 0.18872942],\n",
              "       [0.61647104, 0.38352896],\n",
              "       [0.78965527, 0.21034473],\n",
              "       [0.73148449, 0.26851551],\n",
              "       [0.42445168, 0.57554832],\n",
              "       [0.23894919, 0.76105081],\n",
              "       [0.60578002, 0.39421998],\n",
              "       [0.43556394, 0.56443606],\n",
              "       [0.75510527, 0.24489473],\n",
              "       [0.61165677, 0.38834323],\n",
              "       [0.57994637, 0.42005363],\n",
              "       [0.79124798, 0.20875202],\n",
              "       [0.50420534, 0.49579466],\n",
              "       [0.15509559, 0.84490441],\n",
              "       [0.77728084, 0.22271916],\n",
              "       [0.56202472, 0.43797528],\n",
              "       [0.79124798, 0.20875202],\n",
              "       [0.75510527, 0.24489473],\n",
              "       [0.57994637, 0.42005363],\n",
              "       [0.79124798, 0.20875202],\n",
              "       [0.2953673 , 0.7046327 ],\n",
              "       [0.78245543, 0.21754457],\n",
              "       [0.57994637, 0.42005363],\n",
              "       [0.86854971, 0.13145029],\n",
              "       [0.61647104, 0.38352896],\n",
              "       [0.41623413, 0.58376587],\n",
              "       [0.60661315, 0.39338685],\n",
              "       [0.84060834, 0.15939166],\n",
              "       [0.5967185 , 0.4032815 ],\n",
              "       [0.5462115 , 0.4537885 ],\n",
              "       [0.77728084, 0.22271916],\n",
              "       [0.6089054 , 0.3910946 ],\n",
              "       [0.83884333, 0.16115667],\n",
              "       [0.60973617, 0.39026383],\n",
              "       [0.63412668, 0.36587332],\n",
              "       [0.66099132, 0.33900868],\n",
              "       [0.42629959, 0.57370041],\n",
              "       [0.15436797, 0.84563203],\n",
              "       [0.32876407, 0.67123593],\n",
              "       [0.56202472, 0.43797528],\n",
              "       [0.56438803, 0.43561197],\n",
              "       [0.36104909, 0.63895091],\n",
              "       [0.1821495 , 0.8178505 ],\n",
              "       [0.81721818, 0.18278182],\n",
              "       [0.79463728, 0.20536272],\n",
              "       [0.71677967, 0.28322033],\n",
              "       [0.67685294, 0.32314706],\n",
              "       [0.34813163, 0.65186837],\n",
              "       [0.57994637, 0.42005363],\n",
              "       [0.60217404, 0.39782596],\n",
              "       [0.63495986, 0.36504014],\n",
              "       [0.61561573, 0.38438427],\n",
              "       [0.15338597, 0.84661403],\n",
              "       [0.46383057, 0.53616943],\n",
              "       [0.62177902, 0.37822098],\n",
              "       [0.43929704, 0.56070296],\n",
              "       [0.85651273, 0.14348727],\n",
              "       [0.51537356, 0.48462644],\n",
              "       [0.61647104, 0.38352896],\n",
              "       [0.70100267, 0.29899733],\n",
              "       [0.49148057, 0.50851943],\n",
              "       [0.62177902, 0.37822098],\n",
              "       [0.62838337, 0.37161663],\n",
              "       [0.77728084, 0.22271916],\n",
              "       [0.30212557, 0.69787443],\n",
              "       [0.57994637, 0.42005363],\n",
              "       [0.64447525, 0.35552475],\n",
              "       [0.52104406, 0.47895594],\n",
              "       [0.61647104, 0.38352896],\n",
              "       [0.66942761, 0.33057239],\n",
              "       [0.69506262, 0.30493738],\n",
              "       [0.57994637, 0.42005363],\n",
              "       [0.82923102, 0.17076898],\n",
              "       [0.80249046, 0.19750954],\n",
              "       [0.79124798, 0.20875202],\n",
              "       [0.54534413, 0.45465587],\n",
              "       [0.10529366, 0.89470634],\n",
              "       [0.79798559, 0.20201441],\n",
              "       [0.71299555, 0.28700445],\n",
              "       [0.57994637, 0.42005363],\n",
              "       [0.75510527, 0.24489473],\n",
              "       [0.46760523, 0.53239477],\n",
              "       [0.80248905, 0.19751095],\n",
              "       [0.21082134, 0.78917866],\n",
              "       [0.3537733 , 0.6462267 ],\n",
              "       [0.63270841, 0.36729159],\n",
              "       [0.53921765, 0.46078235],\n",
              "       [0.77500382, 0.22499618],\n",
              "       [0.55965422, 0.44034578],\n",
              "       [0.57994637, 0.42005363],\n",
              "       [0.79798559, 0.20201441],\n",
              "       [0.8615115 , 0.1384885 ],\n",
              "       [0.40623804, 0.59376196],\n",
              "       [0.58273553, 0.41726447],\n",
              "       [0.80455946, 0.19544054],\n",
              "       [0.84060834, 0.15939166],\n",
              "       [0.08660636, 0.91339364],\n",
              "       [0.63495986, 0.36504014],\n",
              "       [0.59224279, 0.40775721],\n",
              "       [0.6482973 , 0.3517027 ],\n",
              "       [0.38337961, 0.61662039],\n",
              "       [0.79124798, 0.20875202],\n",
              "       [0.66942761, 0.33057239],\n",
              "       [0.57994637, 0.42005363],\n",
              "       [0.71227723, 0.28772277]])"
            ]
          },
          "metadata": {},
          "execution_count": 39
        }
      ]
    },
    {
      "cell_type": "code",
      "source": [
        "#We started with the data exploration, performed missing data check, and learned which features are important\n",
        "#We converted categorical features into numeric ones\n",
        "#Finally, we built a classifier to preddict survival\n",
        "#We also evaluated the model performance using the classification report"
      ],
      "metadata": {
        "id": "zSSxmFuU8IAI"
      },
      "execution_count": null,
      "outputs": []
    },
    {
      "cell_type": "code",
      "source": [
        "#Now we need to deal with the missing values in the age of variable, let's now write a fxn to find each null value in the age variable\n",
        "def age_approx(cols):\n",
        "    age = cols[0]\n",
        "    Pclass = cols[1]\n",
        "\n",
        "    if pd.isnull(age):# We will be assigning values based on the passenger class\n",
        "        if Pclass ==1:\n",
        "            return 37\n",
        "        if Pclass ==2:\n",
        "            return 29\n",
        "        else:\n",
        "            return 24\n",
        "    else:\n",
        "        return age\n",
        "        #Here i stuck in the error and in the cell where code is plt.figure(figsize=(6,4))\n",
        "#sns.heatmap(df_train_dummied.corr()) male and female value on the plot are missing\n",
        "#I am not able to find the error\n"
      ],
      "metadata": {
        "id": "2NQiCOgD8_-7"
      },
      "execution_count": null,
      "outputs": []
    },
    {
      "cell_type": "code",
      "source": [
        "df_train.groupby([\"Pclass\"]).mean()"
      ],
      "metadata": {
        "id": "h_G3tDQj9w8V"
      },
      "execution_count": null,
      "outputs": []
    },
    {
      "cell_type": "code",
      "source": [
        "df_train['age'] = df_train[['Age','Pclass']].apply(age_approx, axis=1)"
      ],
      "metadata": {
        "id": "FHwwUyho9yVt"
      },
      "execution_count": null,
      "outputs": []
    },
    {
      "cell_type": "code",
      "source": [],
      "metadata": {
        "id": "UnqomvKh_P7R"
      },
      "execution_count": null,
      "outputs": []
    }
  ]
}